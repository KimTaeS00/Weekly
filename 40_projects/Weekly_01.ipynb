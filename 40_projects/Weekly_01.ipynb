{
 "cells": [
  {
   "attachments": {},
   "cell_type": "markdown",
   "metadata": {},
   "source": [
    "## 3월 첫째 주 리뷰\n",
    "### 1. 숫자 맞추기 게임"
   ]
  },
  {
   "attachments": {},
   "cell_type": "markdown",
   "metadata": {},
   "source": [
    "## import\n",
    "실행 시 임의의 숫자를 지정해주기 위해서 random 라이브러리 추가 \n"
   ]
  },
  {
   "cell_type": "code",
   "execution_count": 1,
   "metadata": {},
   "outputs": [],
   "source": [
    "import random as rd"
   ]
  },
  {
   "cell_type": "code",
   "execution_count": 2,
   "metadata": {},
   "outputs": [],
   "source": [
    "ranum=rd.randint(1,100)     # 정수 랜덤지정\n",
    "\n",
    "game_count=1                # 게일 실행 횟수 변수"
   ]
  },
  {
   "attachments": {},
   "cell_type": "markdown",
   "metadata": {},
   "source": [
    "- Function\n",
    "\n",
    "맞출 때 까지 실행"
   ]
  },
  {
   "cell_type": "code",
   "execution_count": 3,
   "metadata": {},
   "outputs": [
    {
     "name": "stdout",
     "output_type": "stream",
     "text": [
      "UP\n",
      "UP\n",
      "UP\n",
      "DOWN\n",
      "축하합니다. 5회 만에 맞추셨습니다! \n"
     ]
    }
   ],
   "source": [
    "while True:\n",
    "    num=int(input(\"1~100 사이의 숫자를 입력하세요.:\"))\n",
    "\n",
    "    if num>ranum:\n",
    "        print(\"DOWN\")\n",
    "    elif num<ranum:\n",
    "        print(\"UP\")\n",
    "    elif num==ranum:\n",
    "        print(f\"축하합니다. {game_count}회 만에 맞추셨습니다! \") \n",
    "        break\n",
    "\n",
    "    game_count=game_count+1\n",
    "\n"
   ]
  }
 ],
 "metadata": {
  "kernelspec": {
   "display_name": "Python 3",
   "language": "python",
   "name": "python3"
  },
  "language_info": {
   "codemirror_mode": {
    "name": "ipython",
    "version": 3
   },
   "file_extension": ".py",
   "mimetype": "text/x-python",
   "name": "python",
   "nbconvert_exporter": "python",
   "pygments_lexer": "ipython3",
   "version": "3.9.5"
  },
  "orig_nbformat": 4,
  "vscode": {
   "interpreter": {
    "hash": "119727748d1bf48732e6bc358770e8559bd7882bcb75ce9c1a361a8f31d71c2f"
   }
  }
 },
 "nbformat": 4,
 "nbformat_minor": 2
}
