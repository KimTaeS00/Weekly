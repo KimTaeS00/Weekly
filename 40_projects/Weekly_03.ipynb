{
 "cells": [
  {
   "attachments": {},
   "cell_type": "markdown",
   "id": "e9a33410",
   "metadata": {},
   "source": [
    "## 3월 셋째 주 리뷰\n",
    "### 텍스트를 음성파일로 변환하기 "
   ]
  },
  {
   "attachments": {},
   "cell_type": "markdown",
   "id": "1ff9329c",
   "metadata": {},
   "source": [
    "#### import\n",
    "1. gTTS\n",
    "    - google Text to Speech의 약자로 문자를 음성으로 변환\n",
    "    - [참조 링크](https://pypi.org/project/gTTS)\n",
    "2. playsound\n",
    "    - mp3, wav 파일 재생 라이브러리\n",
    "    - [참조 링크](https://pythonbasics.org/python-play-sound/)\n",
    "3. os\n",
    "    - operating system의 약자로, 운영체제의 기능을 제공\n",
    "    - 작업 경로확인, 변경등\n",
    "    - [참조 링크](https://docs.python.org/ko/3/library/os.path.html)\n",
    "    - [참조 링크](https://docs.python.org/ko/3.11/library/os.html?highlight=os#module-os)\n"
   ]
  },
  {
   "cell_type": "code",
   "execution_count": null,
   "id": "b65e2471",
   "metadata": {},
   "outputs": [],
   "source": [
    "from gtts import gTTS\n",
    "from playgound import playgound\n",
    "import os"
   ]
  },
  {
   "attachments": {},
   "cell_type": "markdown",
   "id": "f4b19a9b",
   "metadata": {},
   "source": [
    "경로를 .py파일의 실행경로로 이동, 현재 경로로 이동\n",
    "\n",
    "\n",
    "    os.chdir(path) 현재 작업 경로를 변경\n",
    "    os.path.dirname(path) 경로명 path의 디렉토리 이름을 반환\n",
    "    os.path.abspath(path) 경로명 path의 정규화된 절대 버전을 반환\n"
   ]
  },
  {
   "cell_type": "code",
   "execution_count": null,
   "id": "739a7889",
   "metadata": {},
   "outputs": [],
   "source": [
    "os.chdir(os.path.dirname(os.path.abspath(__file__)))"
   ]
  },
  {
   "attachments": {},
   "cell_type": "markdown",
   "id": "05d5290a",
   "metadata": {},
   "source": [
    "파일을 읽어들인다.\n",
    "\n",
    "    with open(파일경로, 모드) as 파일객체:\n",
    "    위 코드 사용시 close()없이 자동으로 파일을 닫는다.\n",
    "    'rt'모드는 텍스트읽기모드이다."
   ]
  },
  {
   "cell_type": "code",
   "execution_count": null,
   "id": "037287d3",
   "metadata": {},
   "outputs": [],
   "source": [
    "file_path='아무튼 공부중임.txt'\n",
    "with open(file_path,'rt',encoding='UTF8') as f:\n",
    "    read_file=f.read()      #해당 변수에 읽기 저장"
   ]
  },
  {
   "cell_type": "code",
   "execution_count": null,
   "id": "8562513d",
   "metadata": {},
   "outputs": [],
   "source": [
    "# read_file은 텍스트로 변환 되고 언어는 한글로 지정 \n",
    "tts=gTTS(text=read_file, lang='ko')\n",
    "# mp3파일 저장\n",
    "tts.save('mytext.mp3')  \n",
    "# mp3파일 재생\n",
    "playsound('mytext.mp3')"
   ]
  }
 ],
 "metadata": {
  "kernelspec": {
   "display_name": "Python 3",
   "language": "python",
   "name": "python3"
  },
  "language_info": {
   "codemirror_mode": {
    "name": "ipython",
    "version": 3
   },
   "file_extension": ".py",
   "mimetype": "text/x-python",
   "name": "python",
   "nbconvert_exporter": "python",
   "pygments_lexer": "ipython3",
   "version": "3.11.2"
  },
  "vscode": {
   "interpreter": {
    "hash": "de47f5c92c0ee6f12a59a5613ac5feff6aab19ddff207ba0b3964cced08c4ccc"
   }
  }
 },
 "nbformat": 4,
 "nbformat_minor": 5
}
