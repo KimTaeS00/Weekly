{
 "cells": [
  {
   "cell_type": "markdown",
   "id": "e9a33410",
   "metadata": {},
   "source": [
    "## 3월 둘째 주 리뷰\n",
    "### 2. 컴퓨터의 외부 및 내부 IP 확인하기 "
   ]
  },
  {
   "attachments": {},
   "cell_type": "markdown",
   "id": "1ff9329c",
   "metadata": {},
   "source": [
    "### import\n",
    "1. socket\n",
    "    - 저수준 네트워킹 인터페이스\n",
    "    - [참조 링크](https://docs.python.org/ko/3.11/library/socket.html#)  \n",
    "2. re\n",
    "    - 정규식 연산, 특별한 의미를 갖지 않고 특수 문자를 사용할 수 있게끔 해준다\n",
    "    - [참조 링크](https://docs.python.org/ko/3/library/re.html?highlight=re#module-re)\n",
    "\n"
   ]
  },
  {
   "cell_type": "code",
   "execution_count": 5,
   "id": "55ed1e8f",
   "metadata": {},
   "outputs": [],
   "source": [
    "import socket\n",
    "import re"
   ]
  },
  {
   "cell_type": "markdown",
   "id": "8a12d8de",
   "metadata": {},
   "source": [
    "socket.gethostbyname(hostname): 호스트 이름을 주소형식으로 변환\n",
    "\n",
    "socket.gethostname(): 인터프리터가 실행 중인 호스트명을 문자열로 반환"
   ]
  },
  {
   "cell_type": "code",
   "execution_count": 2,
   "id": "cb29c8d8",
   "metadata": {},
   "outputs": [
    {
     "name": "stdout",
     "output_type": "stream",
     "text": [
      "('LAPTOP-28SAVOJE', [], ['192.168.35.69'])\n"
     ]
    }
   ],
   "source": [
    "in_addr=socket.gethostbyname(socket.gethostname())\n",
    "print(socket.gethostbyaddr(in_addr))"
   ]
  },
  {
   "cell_type": "code",
   "execution_count": 3,
   "id": "2545fb5c",
   "metadata": {},
   "outputs": [
    {
     "name": "stdout",
     "output_type": "stream",
     "text": [
      "192.168.35.69\n"
     ]
    }
   ],
   "source": [
    "in_addr_cnt=socket.socket(socket.AF_INET,socket.SOCK_STREAM)\n",
    "in_addr_cnt.connect((\"www.youtube.com\",443))\n",
    "print(in_addr_cnt.getsockname()[0])"
   ]
  },
  {
   "cell_type": "markdown",
   "id": "7fa31f6f",
   "metadata": {},
   "source": [
    "가상환경 등을 사용하고 있지 않기 때문에 내외부 IP동일"
   ]
  }
 ],
 "metadata": {
  "kernelspec": {
   "display_name": "Python 3 (ipykernel)",
   "language": "python",
   "name": "python3"
  },
  "language_info": {
   "codemirror_mode": {
    "name": "ipython",
    "version": 3
   },
   "file_extension": ".py",
   "mimetype": "text/x-python",
   "name": "python",
   "nbconvert_exporter": "python",
   "pygments_lexer": "ipython3",
   "version": "3.11.2"
  }
 },
 "nbformat": 4,
 "nbformat_minor": 5
}
